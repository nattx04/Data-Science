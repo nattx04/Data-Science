{
 "cells": [
  {
   "cell_type": "code",
   "execution_count": 1,
   "id": "28fb1c3d",
   "metadata": {},
   "outputs": [],
   "source": [
    "import numpy as np\n",
    "import pandas as pd\n",
    "import matplotlib.pyplot as plt\n",
    "import seaborn as sns"
   ]
  },
  {
   "cell_type": "code",
   "execution_count": 19,
   "id": "92d64fe6",
   "metadata": {},
   "outputs": [],
   "source": [
    "kpop = pd.read_csv('kpop_idol_followers.csv')"
   ]
  },
  {
   "cell_type": "code",
   "execution_count": 20,
   "id": "92877ac2",
   "metadata": {},
   "outputs": [
    {
     "name": "stdout",
     "output_type": "stream",
     "text": [
      "<class 'pandas.core.frame.DataFrame'>\n",
      "RangeIndex: 406 entries, 0 to 405\n",
      "Data columns (total 21 columns):\n",
      " #   Column          Non-Null Count  Dtype  \n",
      "---  ------          --------------  -----  \n",
      " 0   Stage.Name      406 non-null    object \n",
      " 1   Group           406 non-null    object \n",
      " 2   ig_name         406 non-null    object \n",
      " 3   Followers       406 non-null    int64  \n",
      " 4   Gender.x        406 non-null    object \n",
      " 5   Full.Name       406 non-null    object \n",
      " 6   Korean.Name     406 non-null    object \n",
      " 7   K.Stage.Name    406 non-null    object \n",
      " 8   Date.of.Birth   406 non-null    object \n",
      " 9   Debut           406 non-null    object \n",
      " 10  Company         406 non-null    object \n",
      " 11  Country         406 non-null    object \n",
      " 12  Second.Country  15 non-null     object \n",
      " 13  Height          248 non-null    float64\n",
      " 14  Weight          175 non-null    float64\n",
      " 15  Birthplace      288 non-null    object \n",
      " 16  Other.Group     79 non-null     object \n",
      " 17  Former.Group    35 non-null     object \n",
      " 18  Gender.y        406 non-null    object \n",
      " 19  age             406 non-null    int64  \n",
      " 20  year.career     406 non-null    int64  \n",
      "dtypes: float64(2), int64(3), object(16)\n",
      "memory usage: 66.7+ KB\n"
     ]
    }
   ],
   "source": [
    "kpop.info()"
   ]
  },
  {
   "cell_type": "code",
   "execution_count": 21,
   "id": "ced89f51",
   "metadata": {},
   "outputs": [
    {
     "data": {
      "text/html": [
       "<div>\n",
       "<style scoped>\n",
       "    .dataframe tbody tr th:only-of-type {\n",
       "        vertical-align: middle;\n",
       "    }\n",
       "\n",
       "    .dataframe tbody tr th {\n",
       "        vertical-align: top;\n",
       "    }\n",
       "\n",
       "    .dataframe thead th {\n",
       "        text-align: right;\n",
       "    }\n",
       "</style>\n",
       "<table border=\"1\" class=\"dataframe\">\n",
       "  <thead>\n",
       "    <tr style=\"text-align: right;\">\n",
       "      <th></th>\n",
       "      <th>Stage.Name</th>\n",
       "      <th>Group</th>\n",
       "      <th>ig_name</th>\n",
       "      <th>Followers</th>\n",
       "      <th>Gender.x</th>\n",
       "      <th>Full.Name</th>\n",
       "      <th>Korean.Name</th>\n",
       "      <th>K.Stage.Name</th>\n",
       "      <th>Date.of.Birth</th>\n",
       "      <th>Debut</th>\n",
       "      <th>...</th>\n",
       "      <th>Country</th>\n",
       "      <th>Second.Country</th>\n",
       "      <th>Height</th>\n",
       "      <th>Weight</th>\n",
       "      <th>Birthplace</th>\n",
       "      <th>Other.Group</th>\n",
       "      <th>Former.Group</th>\n",
       "      <th>Gender.y</th>\n",
       "      <th>age</th>\n",
       "      <th>year.career</th>\n",
       "    </tr>\n",
       "  </thead>\n",
       "  <tbody>\n",
       "    <tr>\n",
       "      <th>0</th>\n",
       "      <td>Ace</td>\n",
       "      <td>VAV</td>\n",
       "      <td>ace.vav</td>\n",
       "      <td>335439</td>\n",
       "      <td>Boy</td>\n",
       "      <td>Jang Wooyoung</td>\n",
       "      <td>장우영</td>\n",
       "      <td>에이스</td>\n",
       "      <td>1992-08-28</td>\n",
       "      <td>2015-10-31</td>\n",
       "      <td>...</td>\n",
       "      <td>South Korea</td>\n",
       "      <td>NaN</td>\n",
       "      <td>177.0</td>\n",
       "      <td>63.0</td>\n",
       "      <td>NaN</td>\n",
       "      <td>NaN</td>\n",
       "      <td>NaN</td>\n",
       "      <td>M</td>\n",
       "      <td>30</td>\n",
       "      <td>7</td>\n",
       "    </tr>\n",
       "    <tr>\n",
       "      <th>1</th>\n",
       "      <td>Ahra</td>\n",
       "      <td>FAVORITE</td>\n",
       "      <td>ahra.view</td>\n",
       "      <td>12342</td>\n",
       "      <td>Girl</td>\n",
       "      <td>Go Ahra</td>\n",
       "      <td>고아라</td>\n",
       "      <td>아라</td>\n",
       "      <td>2001-02-21</td>\n",
       "      <td>2017-07-05</td>\n",
       "      <td>...</td>\n",
       "      <td>South Korea</td>\n",
       "      <td>NaN</td>\n",
       "      <td>NaN</td>\n",
       "      <td>NaN</td>\n",
       "      <td>Yeosu</td>\n",
       "      <td>NaN</td>\n",
       "      <td>NaN</td>\n",
       "      <td>F</td>\n",
       "      <td>22</td>\n",
       "      <td>6</td>\n",
       "    </tr>\n",
       "    <tr>\n",
       "      <th>2</th>\n",
       "      <td>Ahyoung</td>\n",
       "      <td>DAL SHABET</td>\n",
       "      <td>a_young91</td>\n",
       "      <td>10479</td>\n",
       "      <td>Girl</td>\n",
       "      <td>Cho Jayoung</td>\n",
       "      <td>조자영</td>\n",
       "      <td>아영</td>\n",
       "      <td>1991-05-26</td>\n",
       "      <td>2011-01-03</td>\n",
       "      <td>...</td>\n",
       "      <td>South Korea</td>\n",
       "      <td>NaN</td>\n",
       "      <td>NaN</td>\n",
       "      <td>NaN</td>\n",
       "      <td>Seoul</td>\n",
       "      <td>NaN</td>\n",
       "      <td>NaN</td>\n",
       "      <td>F</td>\n",
       "      <td>32</td>\n",
       "      <td>12</td>\n",
       "    </tr>\n",
       "    <tr>\n",
       "      <th>3</th>\n",
       "      <td>Alice</td>\n",
       "      <td>HELLO VENUS</td>\n",
       "      <td>hv_alice</td>\n",
       "      <td>11135</td>\n",
       "      <td>Girl</td>\n",
       "      <td>Song Joohee</td>\n",
       "      <td>송주희</td>\n",
       "      <td>앨리스</td>\n",
       "      <td>1990-03-21</td>\n",
       "      <td>2012-05-09</td>\n",
       "      <td>...</td>\n",
       "      <td>South Korea</td>\n",
       "      <td>NaN</td>\n",
       "      <td>166.0</td>\n",
       "      <td>47.0</td>\n",
       "      <td>Wonju</td>\n",
       "      <td>NaN</td>\n",
       "      <td>NaN</td>\n",
       "      <td>F</td>\n",
       "      <td>33</td>\n",
       "      <td>11</td>\n",
       "    </tr>\n",
       "    <tr>\n",
       "      <th>4</th>\n",
       "      <td>Amber</td>\n",
       "      <td>F(X)</td>\n",
       "      <td>ajol_llama</td>\n",
       "      <td>5519743</td>\n",
       "      <td>Girl</td>\n",
       "      <td>Amber Josephine Liu</td>\n",
       "      <td>엠버 조세핀 리우</td>\n",
       "      <td>엠버</td>\n",
       "      <td>1992-09-18</td>\n",
       "      <td>2009-09-05</td>\n",
       "      <td>...</td>\n",
       "      <td>USA</td>\n",
       "      <td>Taiwan</td>\n",
       "      <td>167.0</td>\n",
       "      <td>NaN</td>\n",
       "      <td>Los Angeles</td>\n",
       "      <td>NaN</td>\n",
       "      <td>NaN</td>\n",
       "      <td>F</td>\n",
       "      <td>30</td>\n",
       "      <td>13</td>\n",
       "    </tr>\n",
       "  </tbody>\n",
       "</table>\n",
       "<p>5 rows × 21 columns</p>\n",
       "</div>"
      ],
      "text/plain": [
       "  Stage.Name        Group     ig_name  Followers Gender.x  \\\n",
       "0        Ace          VAV     ace.vav     335439      Boy   \n",
       "1       Ahra     FAVORITE   ahra.view      12342     Girl   \n",
       "2    Ahyoung   DAL SHABET   a_young91      10479     Girl   \n",
       "3      Alice  HELLO VENUS    hv_alice      11135     Girl   \n",
       "4      Amber         F(X)  ajol_llama    5519743     Girl   \n",
       "\n",
       "             Full.Name Korean.Name K.Stage.Name Date.of.Birth       Debut  \\\n",
       "0        Jang Wooyoung         장우영          에이스    1992-08-28  2015-10-31   \n",
       "1              Go Ahra         고아라           아라    2001-02-21  2017-07-05   \n",
       "2          Cho Jayoung         조자영           아영    1991-05-26  2011-01-03   \n",
       "3          Song Joohee         송주희          앨리스    1990-03-21  2012-05-09   \n",
       "4  Amber Josephine Liu   엠버 조세핀 리우           엠버    1992-09-18  2009-09-05   \n",
       "\n",
       "   ...      Country Second.Country Height  Weight   Birthplace Other.Group  \\\n",
       "0  ...  South Korea            NaN  177.0    63.0          NaN         NaN   \n",
       "1  ...  South Korea            NaN    NaN     NaN        Yeosu         NaN   \n",
       "2  ...  South Korea            NaN    NaN     NaN        Seoul         NaN   \n",
       "3  ...  South Korea            NaN  166.0    47.0        Wonju         NaN   \n",
       "4  ...          USA         Taiwan  167.0     NaN  Los Angeles         NaN   \n",
       "\n",
       "  Former.Group Gender.y age  year.career  \n",
       "0          NaN        M  30            7  \n",
       "1          NaN        F  22            6  \n",
       "2          NaN        F  32           12  \n",
       "3          NaN        F  33           11  \n",
       "4          NaN        F  30           13  \n",
       "\n",
       "[5 rows x 21 columns]"
      ]
     },
     "execution_count": 21,
     "metadata": {},
     "output_type": "execute_result"
    }
   ],
   "source": [
    "kpop.head()"
   ]
  },
  {
   "cell_type": "code",
   "execution_count": 22,
   "id": "68aef834",
   "metadata": {},
   "outputs": [
    {
     "data": {
      "text/plain": [
       "<Axes: xlabel='Followers', ylabel='age'>"
      ]
     },
     "execution_count": 22,
     "metadata": {},
     "output_type": "execute_result"
    },
    {
     "data": {
      "image/png": "[encoded data removed]",
      "text/plain": [
       "<Figure size 640x480 with 1 Axes>"
      ]
     },
     "metadata": {},
     "output_type": "display_data"
    }
   ],
   "source": [
    "sns.scatterplot(data = kpop,x = 'Followers',y = 'age')"
   ]
  },
  {
   "cell_type": "code",
   "execution_count": 29,
   "id": "f3c24724",
   "metadata": {},
   "outputs": [
    {
     "data": {
      "text/html": [
       "<div>\n",
       "<style scoped>\n",
       "    .dataframe tbody tr th:only-of-type {\n",
       "        vertical-align: middle;\n",
       "    }\n",
       "\n",
       "    .dataframe tbody tr th {\n",
       "        vertical-align: top;\n",
       "    }\n",
       "\n",
       "    .dataframe thead th {\n",
       "        text-align: right;\n",
       "    }\n",
       "</style>\n",
       "<table border=\"1\" class=\"dataframe\">\n",
       "  <thead>\n",
       "    <tr style=\"text-align: right;\">\n",
       "      <th></th>\n",
       "      <th>Followers</th>\n",
       "      <th>age</th>\n",
       "    </tr>\n",
       "  </thead>\n",
       "  <tbody>\n",
       "    <tr>\n",
       "      <th>0</th>\n",
       "      <td>335439</td>\n",
       "      <td>30</td>\n",
       "    </tr>\n",
       "    <tr>\n",
       "      <th>1</th>\n",
       "      <td>12342</td>\n",
       "      <td>22</td>\n",
       "    </tr>\n",
       "    <tr>\n",
       "      <th>2</th>\n",
       "      <td>10479</td>\n",
       "      <td>32</td>\n",
       "    </tr>\n",
       "    <tr>\n",
       "      <th>3</th>\n",
       "      <td>11135</td>\n",
       "      <td>33</td>\n",
       "    </tr>\n",
       "    <tr>\n",
       "      <th>4</th>\n",
       "      <td>5519743</td>\n",
       "      <td>30</td>\n",
       "    </tr>\n",
       "  </tbody>\n",
       "</table>\n",
       "</div>"
      ],
      "text/plain": [
       "   Followers  age\n",
       "0     335439   30\n",
       "1      12342   22\n",
       "2      10479   32\n",
       "3      11135   33\n",
       "4    5519743   30"
      ]
     },
     "execution_count": 29,
     "metadata": {},
     "output_type": "execute_result"
    }
   ],
   "source": [
    "kpop2 = kpop[ ['Followers','age'] ].dropna()\n",
    "kpop2.head()"
   ]
  },
  {
   "cell_type": "code",
   "execution_count": 30,
   "id": "c3f2dc46",
   "metadata": {},
   "outputs": [],
   "source": [
    "from sklearn.cluster import KMeans"
   ]
  },
  {
   "cell_type": "code",
   "execution_count": 35,
   "id": "5ab472da",
   "metadata": {},
   "outputs": [
    {
     "name": "stderr",
     "output_type": "stream",
     "text": [
      "C:\\Users\\natty\\anaconda3\\Lib\\site-packages\\sklearn\\cluster\\_kmeans.py:1412: FutureWarning: The default value of `n_init` will change from 10 to 'auto' in 1.4. Set the value of `n_init` explicitly to suppress the warning\n",
      "  super()._check_params_vs_input(X, default_n_init=10)\n",
      "C:\\Users\\natty\\anaconda3\\Lib\\site-packages\\sklearn\\cluster\\_kmeans.py:1436: UserWarning: KMeans is known to have a memory leak on Windows with MKL, when there are less chunks than available threads. You can avoid it by setting the environment variable OMP_NUM_THREADS=2.\n",
      "  warnings.warn(\n"
     ]
    },
    {
     "data": {
      "text/html": [
       "<style>#sk-container-id-1 {color: black;}#sk-container-id-1 pre{padding: 0;}#sk-container-id-1 div.sk-toggleable {background-color: white;}#sk-container-id-1 label.sk-toggleable__label {cursor: pointer;display: block;width: 100%;margin-bottom: 0;padding: 0.3em;box-sizing: border-box;text-align: center;}#sk-container-id-1 label.sk-toggleable__label-arrow:before {content: \"▸\";float: left;margin-right: 0.25em;color: #696969;}#sk-container-id-1 label.sk-toggleable__label-arrow:hover:before {color: black;}#sk-container-id-1 div.sk-estimator:hover label.sk-toggleable__label-arrow:before {color: black;}#sk-container-id-1 div.sk-toggleable__content {max-height: 0;max-width: 0;overflow: hidden;text-align: left;background-color: #f0f8ff;}#sk-container-id-1 div.sk-toggleable__content pre {margin: 0.2em;color: black;border-radius: 0.25em;background-color: #f0f8ff;}#sk-container-id-1 input.sk-toggleable__control:checked~div.sk-toggleable__content {max-height: 200px;max-width: 100%;overflow: auto;}#sk-container-id-1 input.sk-toggleable__control:checked~label.sk-toggleable__label-arrow:before {content: \"▾\";}#sk-container-id-1 div.sk-estimator input.sk-toggleable__control:checked~label.sk-toggleable__label {background-color: #d4ebff;}#sk-container-id-1 div.sk-label input.sk-toggleable__control:checked~label.sk-toggleable__label {background-color: #d4ebff;}#sk-container-id-1 input.sk-hidden--visually {border: 0;clip: rect(1px 1px 1px 1px);clip: rect(1px, 1px, 1px, 1px);height: 1px;margin: -1px;overflow: hidden;padding: 0;position: absolute;width: 1px;}#sk-container-id-1 div.sk-estimator {font-family: monospace;background-color: #f0f8ff;border: 1px dotted black;border-radius: 0.25em;box-sizing: border-box;margin-bottom: 0.5em;}#sk-container-id-1 div.sk-estimator:hover {background-color: #d4ebff;}#sk-container-id-1 div.sk-parallel-item::after {content: \"\";width: 100%;border-bottom: 1px solid gray;flex-grow: 1;}#sk-container-id-1 div.sk-label:hover label.sk-toggleable__label {background-color: #d4ebff;}#sk-container-id-1 div.sk-serial::before {content: \"\";position: absolute;border-left: 1px solid gray;box-sizing: border-box;top: 0;bottom: 0;left: 50%;z-index: 0;}#sk-container-id-1 div.sk-serial {display: flex;flex-direction: column;align-items: center;background-color: white;padding-right: 0.2em;padding-left: 0.2em;position: relative;}#sk-container-id-1 div.sk-item {position: relative;z-index: 1;}#sk-container-id-1 div.sk-parallel {display: flex;align-items: stretch;justify-content: center;background-color: white;position: relative;}#sk-container-id-1 div.sk-item::before, #sk-container-id-1 div.sk-parallel-item::before {content: \"\";position: absolute;border-left: 1px solid gray;box-sizing: border-box;top: 0;bottom: 0;left: 50%;z-index: -1;}#sk-container-id-1 div.sk-parallel-item {display: flex;flex-direction: column;z-index: 1;position: relative;background-color: white;}#sk-container-id-1 div.sk-parallel-item:first-child::after {align-self: flex-end;width: 50%;}#sk-container-id-1 div.sk-parallel-item:last-child::after {align-self: flex-start;width: 50%;}#sk-container-id-1 div.sk-parallel-item:only-child::after {width: 0;}#sk-container-id-1 div.sk-dashed-wrapped {border: 1px dashed gray;margin: 0 0.4em 0.5em 0.4em;box-sizing: border-box;padding-bottom: 0.4em;background-color: white;}#sk-container-id-1 div.sk-label label {font-family: monospace;font-weight: bold;display: inline-block;line-height: 1.2em;}#sk-container-id-1 div.sk-label-container {text-align: center;}#sk-container-id-1 div.sk-container {/* jupyter's `normalize.less` sets `[hidden] { display: none; }` but bootstrap.min.css set `[hidden] { display: none !important; }` so we also need the `!important` here to be able to override the default hidden behavior on the sphinx rendered scikit-learn.org. See: https://github.com/scikit-learn/scikit-learn/issues/21755 */display: inline-block !important;position: relative;}#sk-container-id-1 div.sk-text-repr-fallback {display: none;}</style><div id=\"sk-container-id-1\" class=\"sk-top-container\"><div class=\"sk-text-repr-fallback\"><pre>KMeans(n_clusters=4, random_state=0)</pre><b>In a Jupyter environment, please rerun this cell to show the HTML representation or trust the notebook. <br />On GitHub, the HTML representation is unable to render, please try loading this page with nbviewer.org.</b></div><div class=\"sk-container\" hidden><div class=\"sk-item\"><div class=\"sk-estimator sk-toggleable\"><input class=\"sk-toggleable__control sk-hidden--visually\" id=\"sk-estimator-id-1\" type=\"checkbox\" checked><label for=\"sk-estimator-id-1\" class=\"sk-toggleable__label sk-toggleable__label-arrow\">KMeans</label><div class=\"sk-toggleable__content\"><pre>KMeans(n_clusters=4, random_state=0)</pre></div></div></div></div></div>"
      ],
      "text/plain": [
       "KMeans(n_clusters=4, random_state=0)"
      ]
     },
     "execution_count": 35,
     "metadata": {},
     "output_type": "execute_result"
    }
   ],
   "source": [
    "model = KMeans(n_clusters=4,random_state = 0)\n",
    "model.fit(kpop2)"
   ]
  },
  {
   "cell_type": "code",
   "execution_count": 36,
   "id": "405fc285",
   "metadata": {},
   "outputs": [
    {
     "data": {
      "text/plain": [
       "array([[9.57900090e+06, 2.72537313e+01],\n",
       "       [8.52328295e+05, 2.76170213e+01],\n",
       "       [8.14206577e+07, 2.70000000e+01],\n",
       "       [4.44068214e+07, 2.80000000e+01]])"
      ]
     },
     "execution_count": 36,
     "metadata": {},
     "output_type": "execute_result"
    }
   ],
   "source": [
    "model.cluster_centers_"
   ]
  },
  {
   "cell_type": "code",
   "execution_count": 37,
   "id": "9cb617f3",
   "metadata": {},
   "outputs": [
    {
     "data": {
      "text/plain": [
       "<matplotlib.collections.PathCollection at 0x28b7d3c5c50>"
      ]
     },
     "execution_count": 37,
     "metadata": {},
     "output_type": "execute_result"
    },
    {
     "data": {
      "image/png": "[encoded data removed]",
      "text/plain": [
       "<Figure size 640x480 with 1 Axes>"
      ]
     },
     "metadata": {},
     "output_type": "display_data"
    }
   ],
   "source": [
    "sns.scatterplot(data = kpop,x = 'Followers',y = 'age',hue = model.labels_,palette ='Set1')\n",
    "plt.scatter(model.cluster_centers_[:,0],model.cluster_centers_[:,1],color = 'k',marker = '*')"
   ]
  },
  {
   "cell_type": "code",
   "execution_count": null,
   "id": "20b79546",
   "metadata": {},
   "outputs": [],
   "source": []
  }
 ],
 "metadata": {
  "kernelspec": {
   "display_name": "Python 3 (ipykernel)",
   "language": "python",
   "name": "python3"
  },
  "language_info": {
   "codemirror_mode": {
    "name": "ipython",
    "version": 3
   },
   "file_extension": ".py",
   "mimetype": "text/x-python",
   "name": "python",
   "nbconvert_exporter": "python",
   "pygments_lexer": "ipython3",
   "version": "3.11.5"
  }
 },
 "nbformat": 4,
 "nbformat_minor": 5
}
