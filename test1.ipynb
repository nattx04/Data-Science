{
 "cells": [
  {
   "cell_type": "code",
   "execution_count": 1,
   "id": "3a5b5583",
   "metadata": {},
   "outputs": [
    {
     "data": {
      "text/plain": [
       "4"
      ]
     },
     "execution_count": 1,
     "metadata": {},
     "output_type": "execute_result"
    }
   ],
   "source": [
    "2+2"
   ]
  },
  {
   "cell_type": "code",
   "execution_count": 2,
   "id": "63df82fc",
   "metadata": {},
   "outputs": [],
   "source": [
    "x=5"
   ]
  },
  {
   "cell_type": "code",
   "execution_count": 3,
   "id": "8ccc9217",
   "metadata": {},
   "outputs": [
    {
     "data": {
      "text/plain": [
       "11"
      ]
     },
     "execution_count": 3,
     "metadata": {},
     "output_type": "execute_result"
    }
   ],
   "source": [
    "x+6"
   ]
  },
  {
   "cell_type": "code",
   "execution_count": 4,
   "id": "c314fed0",
   "metadata": {},
   "outputs": [
    {
     "data": {
      "text/plain": [
       "13"
      ]
     },
     "execution_count": 4,
     "metadata": {},
     "output_type": "execute_result"
    }
   ],
   "source": [
    "11+2"
   ]
  },
  {
   "cell_type": "code",
   "execution_count": 5,
   "id": "27923883",
   "metadata": {},
   "outputs": [
    {
     "name": "stdout",
     "output_type": "stream",
     "text": [
      "Welcome\n"
     ]
    }
   ],
   "source": [
    "print('Welcome')"
   ]
  },
  {
   "cell_type": "code",
   "execution_count": 6,
   "id": "c7b54496",
   "metadata": {},
   "outputs": [
    {
     "name": "stdout",
     "output_type": "stream",
     "text": [
      "Hello\n"
     ]
    }
   ],
   "source": [
    "print('Hello')"
   ]
  },
  {
   "cell_type": "code",
   "execution_count": 8,
   "id": "1a910868",
   "metadata": {},
   "outputs": [
    {
     "data": {
      "text/plain": [
       "-5"
      ]
     },
     "execution_count": 8,
     "metadata": {},
     "output_type": "execute_result"
    }
   ],
   "source": [
    "1-6"
   ]
  },
  {
   "cell_type": "code",
   "execution_count": 10,
   "id": "3cb162c7",
   "metadata": {},
   "outputs": [
    {
     "data": {
      "text/plain": [
       "8"
      ]
     },
     "execution_count": 10,
     "metadata": {},
     "output_type": "execute_result"
    }
   ],
   "source": [
    "3+5"
   ]
  },
  {
   "cell_type": "code",
   "execution_count": 12,
   "id": "fd3155d9",
   "metadata": {},
   "outputs": [
    {
     "data": {
      "text/plain": [
       "False"
      ]
     },
     "execution_count": 12,
     "metadata": {},
     "output_type": "execute_result"
    }
   ],
   "source": [
    "3>5"
   ]
  },
  {
   "cell_type": "code",
   "execution_count": 16,
   "id": "ccb5e0b5",
   "metadata": {},
   "outputs": [
    {
     "name": "stdout",
     "output_type": "stream",
     "text": [
      "3+5 = 8\n"
     ]
    }
   ],
   "source": [
    "print('3+5 =',3+5)"
   ]
  },
  {
   "cell_type": "code",
   "execution_count": 9,
   "id": "977ce84f",
   "metadata": {},
   "outputs": [],
   "source": [
    "x = 5\n",
    "y = 'Hello'"
   ]
  },
  {
   "cell_type": "code",
   "execution_count": 12,
   "id": "1bafe146",
   "metadata": {},
   "outputs": [
    {
     "name": "stdout",
     "output_type": "stream",
     "text": [
      "Hello\n"
     ]
    }
   ],
   "source": [
    "print (y)"
   ]
  },
  {
   "cell_type": "code",
   "execution_count": 30,
   "id": "e390c5a3",
   "metadata": {},
   "outputs": [
    {
     "name": "stdout",
     "output_type": "stream",
     "text": [
      "Plz input :50\n"
     ]
    }
   ],
   "source": [
    "age = input('Plz input :')"
   ]
  },
  {
   "cell_type": "code",
   "execution_count": 31,
   "id": "684a8cd6",
   "metadata": {},
   "outputs": [
    {
     "data": {
      "text/plain": [
       "'50'"
      ]
     },
     "execution_count": 31,
     "metadata": {},
     "output_type": "execute_result"
    }
   ],
   "source": [
    "age"
   ]
  },
  {
   "cell_type": "code",
   "execution_count": 34,
   "id": "e53f66b5",
   "metadata": {},
   "outputs": [
    {
     "name": "stdout",
     "output_type": "stream",
     "text": [
      "50\n"
     ]
    }
   ],
   "source": [
    "print(age)"
   ]
  },
  {
   "cell_type": "code",
   "execution_count": 36,
   "id": "195aef59",
   "metadata": {},
   "outputs": [
    {
     "data": {
      "text/plain": [
       "str"
      ]
     },
     "execution_count": 36,
     "metadata": {},
     "output_type": "execute_result"
    }
   ],
   "source": [
    "type(age)"
   ]
  },
  {
   "cell_type": "code",
   "execution_count": 38,
   "id": "4d3020f7",
   "metadata": {},
   "outputs": [
    {
     "data": {
      "text/plain": [
       "int"
      ]
     },
     "execution_count": 38,
     "metadata": {},
     "output_type": "execute_result"
    }
   ],
   "source": [
    "type(500)"
   ]
  },
  {
   "cell_type": "code",
   "execution_count": 41,
   "id": "6fa7c53a",
   "metadata": {},
   "outputs": [
    {
     "data": {
      "text/plain": [
       "float"
      ]
     },
     "execution_count": 41,
     "metadata": {},
     "output_type": "execute_result"
    }
   ],
   "source": [
    "type(2.5)"
   ]
  },
  {
   "cell_type": "code",
   "execution_count": 43,
   "id": "7d4d6661",
   "metadata": {},
   "outputs": [
    {
     "data": {
      "text/plain": [
       "2"
      ]
     },
     "execution_count": 43,
     "metadata": {},
     "output_type": "execute_result"
    }
   ],
   "source": [
    "int(2.5)"
   ]
  },
  {
   "cell_type": "code",
   "execution_count": 46,
   "id": "ef303a2a",
   "metadata": {},
   "outputs": [
    {
     "data": {
      "text/plain": [
       "3.0"
      ]
     },
     "execution_count": 46,
     "metadata": {},
     "output_type": "execute_result"
    }
   ],
   "source": [
    "float(3)"
   ]
  },
  {
   "cell_type": "code",
   "execution_count": 49,
   "id": "8bd44a41",
   "metadata": {},
   "outputs": [],
   "source": [
    "age=50"
   ]
  },
  {
   "cell_type": "code",
   "execution_count": 53,
   "id": "7a95bcce",
   "metadata": {},
   "outputs": [],
   "source": [
    "a=int(age)"
   ]
  },
  {
   "cell_type": "code",
   "execution_count": 55,
   "id": "feb35d79",
   "metadata": {},
   "outputs": [
    {
     "data": {
      "text/plain": [
       "'3.14'"
      ]
     },
     "execution_count": 55,
     "metadata": {},
     "output_type": "execute_result"
    }
   ],
   "source": [
    "str(3.14)"
   ]
  },
  {
   "cell_type": "code",
   "execution_count": 57,
   "id": "f39a9894",
   "metadata": {},
   "outputs": [
    {
     "name": "stdout",
     "output_type": "stream",
     "text": [
      "How old are you?35\n"
     ]
    }
   ],
   "source": [
    "age=input('How old are you?')"
   ]
  },
  {
   "cell_type": "code",
   "execution_count": 64,
   "id": "c006c07c",
   "metadata": {},
   "outputs": [
    {
     "name": "stdout",
     "output_type": "stream",
     "text": [
      "In 5 years,your age will be 40\n"
     ]
    }
   ],
   "source": [
    "print('In 5 years,your age will be',int(age)+5)"
   ]
  },
  {
   "cell_type": "code",
   "execution_count": 66,
   "id": "b5190a75",
   "metadata": {},
   "outputs": [],
   "source": [
    "x, y = 10, 20"
   ]
  },
  {
   "cell_type": "code",
   "execution_count": 68,
   "id": "5459c7ea",
   "metadata": {},
   "outputs": [
    {
     "data": {
      "text/plain": [
       "10"
      ]
     },
     "execution_count": 68,
     "metadata": {},
     "output_type": "execute_result"
    }
   ],
   "source": [
    "x"
   ]
  },
  {
   "cell_type": "code",
   "execution_count": 70,
   "id": "dd4e00e7",
   "metadata": {},
   "outputs": [
    {
     "data": {
      "text/plain": [
       "20"
      ]
     },
     "execution_count": 70,
     "metadata": {},
     "output_type": "execute_result"
    }
   ],
   "source": [
    "y"
   ]
  },
  {
   "cell_type": "code",
   "execution_count": 74,
   "id": "a9b26933",
   "metadata": {},
   "outputs": [
    {
     "data": {
      "text/plain": [
       "(21, 11)"
      ]
     },
     "execution_count": 74,
     "metadata": {},
     "output_type": "execute_result"
    }
   ],
   "source": [
    "y+1 ,x+1"
   ]
  },
  {
   "cell_type": "code",
   "execution_count": 77,
   "id": "c7b2b359",
   "metadata": {},
   "outputs": [],
   "source": [
    "x, y = 10, 20\n",
    "x, y = y+1 , x+1"
   ]
  },
  {
   "cell_type": "code",
   "execution_count": 79,
   "id": "dbe20111",
   "metadata": {},
   "outputs": [
    {
     "data": {
      "text/plain": [
       "21"
      ]
     },
     "execution_count": 79,
     "metadata": {},
     "output_type": "execute_result"
    }
   ],
   "source": [
    "x"
   ]
  },
  {
   "cell_type": "code",
   "execution_count": 81,
   "id": "439a7c0e",
   "metadata": {},
   "outputs": [
    {
     "data": {
      "text/plain": [
       "11"
      ]
     },
     "execution_count": 81,
     "metadata": {},
     "output_type": "execute_result"
    }
   ],
   "source": [
    "y"
   ]
  },
  {
   "cell_type": "code",
   "execution_count": 83,
   "id": "6911c707",
   "metadata": {},
   "outputs": [
    {
     "data": {
      "text/plain": [
       "2.5"
      ]
     },
     "execution_count": 83,
     "metadata": {},
     "output_type": "execute_result"
    }
   ],
   "source": [
    "5/2"
   ]
  },
  {
   "cell_type": "code",
   "execution_count": 85,
   "id": "847843d7",
   "metadata": {},
   "outputs": [
    {
     "data": {
      "text/plain": [
       "2"
      ]
     },
     "execution_count": 85,
     "metadata": {},
     "output_type": "execute_result"
    }
   ],
   "source": [
    "5//2"
   ]
  },
  {
   "cell_type": "code",
   "execution_count": 87,
   "id": "da23797c",
   "metadata": {},
   "outputs": [
    {
     "data": {
      "text/plain": [
       "2"
      ]
     },
     "execution_count": 87,
     "metadata": {},
     "output_type": "execute_result"
    }
   ],
   "source": [
    "4//2"
   ]
  },
  {
   "cell_type": "code",
   "execution_count": 89,
   "id": "8f723cc8",
   "metadata": {},
   "outputs": [
    {
     "data": {
      "text/plain": [
       "1"
      ]
     },
     "execution_count": 89,
     "metadata": {},
     "output_type": "execute_result"
    }
   ],
   "source": [
    "9%2"
   ]
  },
  {
   "cell_type": "code",
   "execution_count": 91,
   "id": "90bc1088",
   "metadata": {},
   "outputs": [
    {
     "data": {
      "text/plain": [
       "-3"
      ]
     },
     "execution_count": 91,
     "metadata": {},
     "output_type": "execute_result"
    }
   ],
   "source": [
    "-5//2"
   ]
  },
  {
   "cell_type": "code",
   "execution_count": 93,
   "id": "97e2303d",
   "metadata": {},
   "outputs": [
    {
     "data": {
      "text/plain": [
       "4"
      ]
     },
     "execution_count": 93,
     "metadata": {},
     "output_type": "execute_result"
    }
   ],
   "source": [
    "9%5"
   ]
  },
  {
   "cell_type": "code",
   "execution_count": 13,
   "id": "d7497bde",
   "metadata": {},
   "outputs": [
    {
     "name": "stdout",
     "output_type": "stream",
     "text": [
      "0\n",
      "is the minimum\n"
     ]
    }
   ],
   "source": [
    "x=0\n",
    "y=20\n",
    "if x < y:\n",
    "    print(x)\n",
    "else:\n",
    "    print(y)\n",
    "print('is the minimum')"
   ]
  },
  {
   "cell_type": "code",
   "execution_count": 14,
   "id": "7fa74047",
   "metadata": {},
   "outputs": [
    {
     "name": "stdout",
     "output_type": "stream",
     "text": [
      "99\n"
     ]
    }
   ],
   "source": [
    "x=99\n",
    "if x==10:\n",
    "    print(10)\n",
    "else:\n",
    "    if x==20 :\n",
    "        print(20)\n",
    "    else:\n",
    "        if x==30 :\n",
    "            print(30)\n",
    "        else :\n",
    "                print(x)"
   ]
  },
  {
   "cell_type": "code",
   "execution_count": 15,
   "id": "1bfa6bb3",
   "metadata": {},
   "outputs": [
    {
     "name": "stdout",
     "output_type": "stream",
     "text": [
      "10\n"
     ]
    }
   ],
   "source": [
    "x = 10\n",
    "if x==10 :\n",
    "    print(10)\n",
    "elif x==20:\n",
    "    print(20)\n",
    "elif x==30:\n",
    "    print(30)\n",
    "else:\n",
    "    print(x)"
   ]
  },
  {
   "cell_type": "code",
   "execution_count": 17,
   "id": "5c864194",
   "metadata": {},
   "outputs": [
    {
     "data": {
      "text/plain": [
       "True"
      ]
     },
     "execution_count": 17,
     "metadata": {},
     "output_type": "execute_result"
    }
   ],
   "source": [
    "3/2>1"
   ]
  },
  {
   "cell_type": "code",
   "execution_count": 118,
   "id": "ec046482",
   "metadata": {},
   "outputs": [
    {
     "data": {
      "text/plain": [
       "False"
      ]
     },
     "execution_count": 118,
     "metadata": {},
     "output_type": "execute_result"
    }
   ],
   "source": [
    "5<2"
   ]
  },
  {
   "cell_type": "code",
   "execution_count": 120,
   "id": "5fdd1472",
   "metadata": {},
   "outputs": [
    {
     "name": "stdout",
     "output_type": "stream",
     "text": [
      "false\n"
     ]
    }
   ],
   "source": [
    "if(5<2) and (3/0>1):\n",
    "    print('Get')\n",
    "else:\n",
    "    print('false')"
   ]
  },
  {
   "cell_type": "code",
   "execution_count": 121,
   "id": "7d8474e2",
   "metadata": {},
   "outputs": [
    {
     "data": {
      "text/plain": [
       "True"
      ]
     },
     "execution_count": 121,
     "metadata": {},
     "output_type": "execute_result"
    }
   ],
   "source": [
    "not((2>5) and (3/0>1)) or (4/0<2)"
   ]
  },
  {
   "cell_type": "code",
   "execution_count": 138,
   "id": "9419a09d",
   "metadata": {},
   "outputs": [
    {
     "name": "stdout",
     "output_type": "stream",
     "text": [
      "Ler's have peace\n"
     ]
    }
   ],
   "source": [
    "y=0.1*3\n",
    "if abs(0.3-y)<=0.00000000000000000000000000000000000000000000000000000000001:\n",
    "    print('Launch a Missle')\n",
    "else:\n",
    "    print(\"Ler's have peace\")"
   ]
  },
  {
   "cell_type": "code",
   "execution_count": 157,
   "id": "6425dfb6",
   "metadata": {},
   "outputs": [
    {
     "name": "stdout",
     "output_type": "stream",
     "text": [
      "5\n",
      "5 X 1 = 5\n",
      "5 X 2 = 10\n",
      "5 X 3 = 15\n",
      "5 X 4 = 20\n",
      "5 X 5 = 25\n",
      "5 X 6 = 30\n",
      "5 X 7 = 35\n",
      "5 X 8 = 40\n",
      "5 X 9 = 45\n",
      "5 X 10 = 50\n",
      "5 X 11 = 55\n",
      "5 X 12 = 60\n"
     ]
    }
   ],
   "source": [
    "n = input()\n",
    "n = int(n)\n",
    "i = 1\n",
    "while i<=12 :\n",
    "    print(n,'X',i,'=',n*i)\n",
    "    i=i+1"
   ]
  },
  {
   "cell_type": "code",
   "execution_count": 158,
   "id": "a02dc738",
   "metadata": {},
   "outputs": [
    {
     "name": "stdout",
     "output_type": "stream",
     "text": [
      "1\n",
      "2\n",
      "3\n",
      "4\n",
      "5\n",
      "6\n",
      "7\n",
      "8\n",
      "9\n",
      "10\n",
      "11\n",
      "12\n"
     ]
    }
   ],
   "source": [
    "for i in range(1,13,1) :\n",
    "    print(i)"
   ]
  },
  {
   "cell_type": "code",
   "execution_count": 160,
   "id": "301a2cee",
   "metadata": {},
   "outputs": [
    {
     "name": "stdout",
     "output_type": "stream",
     "text": [
      "5\n",
      "5 X 1 = 5\n",
      "5 X 2 = 10\n",
      "5 X 3 = 15\n",
      "5 X 4 = 20\n",
      "5 X 5 = 25\n",
      "5 X 6 = 30\n",
      "5 X 7 = 35\n",
      "5 X 8 = 40\n",
      "5 X 9 = 45\n",
      "5 X 10 = 50\n",
      "5 X 11 = 55\n",
      "5 X 12 = 60\n"
     ]
    }
   ],
   "source": [
    "n = int(input())\n",
    "for i in range(1,13,1) :\n",
    "    print(n,'X',i,'=',n*i)"
   ]
  },
  {
   "cell_type": "code",
   "execution_count": 165,
   "id": "e28c5cc2",
   "metadata": {},
   "outputs": [],
   "source": [
    "def max(a,b):\n",
    "    if a>b :\n",
    "        print(a)\n",
    "    else :\n",
    "        print(b)"
   ]
  },
  {
   "cell_type": "code",
   "execution_count": 164,
   "id": "22d6288c",
   "metadata": {},
   "outputs": [
    {
     "data": {
      "text/plain": [
       "80"
      ]
     },
     "execution_count": 164,
     "metadata": {},
     "output_type": "execute_result"
    }
   ],
   "source": [
    "max(80,20)"
   ]
  },
  {
   "cell_type": "code",
   "execution_count": 166,
   "id": "d66b3dcd",
   "metadata": {},
   "outputs": [],
   "source": [
    "def max_r(a,b):\n",
    "    if a>b :\n",
    "        return a\n",
    "    else :\n",
    "        return b"
   ]
  },
  {
   "cell_type": "code",
   "execution_count": 167,
   "id": "375c2a7c",
   "metadata": {},
   "outputs": [],
   "source": [
    "def max_r(a,b):\n",
    "    \"return max value\"\n",
    "    if a>b :\n",
    "        return a\n",
    "    else :\n",
    "        return b"
   ]
  },
  {
   "cell_type": "code",
   "execution_count": 169,
   "id": "42e6c4dd",
   "metadata": {},
   "outputs": [
    {
     "name": "stdout",
     "output_type": "stream",
     "text": [
      "Help on function max_r in module __main__:\n",
      "\n",
      "max_r(a, b)\n",
      "    return max value\n",
      "\n"
     ]
    }
   ],
   "source": [
    "help(max_r)"
   ]
  },
  {
   "cell_type": "code",
   "execution_count": 174,
   "id": "51cb1155",
   "metadata": {},
   "outputs": [],
   "source": [
    "def printName(first,last,initials) :\n",
    "    if initials :\n",
    "        print(first[0]+'.'+last[0]+'.')\n",
    "    else :\n",
    "        print(first,last)"
   ]
  },
  {
   "cell_type": "code",
   "execution_count": 175,
   "id": "5bd6e314",
   "metadata": {},
   "outputs": [
    {
     "name": "stdout",
     "output_type": "stream",
     "text": [
      "S.N.\n"
     ]
    }
   ],
   "source": [
    "printName('Sirirak','Nakchaitham',True)"
   ]
  },
  {
   "cell_type": "code",
   "execution_count": 176,
   "id": "29f5bc56",
   "metadata": {},
   "outputs": [
    {
     "name": "stdout",
     "output_type": "stream",
     "text": [
      "Sirirak Nakchaitham\n"
     ]
    }
   ],
   "source": [
    "printName('Sirirak','Nakchaitham',False)"
   ]
  },
  {
   "cell_type": "code",
   "execution_count": 177,
   "id": "fca11488",
   "metadata": {},
   "outputs": [
    {
     "name": "stdout",
     "output_type": "stream",
     "text": [
      "S.N.\n"
     ]
    }
   ],
   "source": [
    "printName(initials=True,last='Nakchaitham',first='Sirirak')"
   ]
  },
  {
   "cell_type": "code",
   "execution_count": 179,
   "id": "3d013af1",
   "metadata": {},
   "outputs": [],
   "source": [
    "def printName(first,last,initials=False) :\n",
    "    if initials :\n",
    "        print(first[0]+'.'+last[0]+'.')\n",
    "    else :\n",
    "        print(first,last)"
   ]
  },
  {
   "cell_type": "code",
   "execution_count": 180,
   "id": "8e7b6d94",
   "metadata": {},
   "outputs": [
    {
     "name": "stdout",
     "output_type": "stream",
     "text": [
      "Sirirak Nakchaitham\n"
     ]
    }
   ],
   "source": [
    "printName('Sirirak','Nakchaitham')"
   ]
  },
  {
   "cell_type": "code",
   "execution_count": 188,
   "id": "0869d710",
   "metadata": {},
   "outputs": [
    {
     "data": {
      "text/plain": [
       "'def test01() :\\n    print(x)\\n    \\ndef test02() :\\n    global x\\n    x = 20 การคอมเม้น'"
      ]
     },
     "execution_count": 188,
     "metadata": {},
     "output_type": "execute_result"
    }
   ],
   "source": [
    "x = 10\n",
    "\n",
    "def test01() :\n",
    "    print(x)\n",
    "    \n",
    "def test02() :\n",
    "    global x\n",
    "    x = 20\n",
    "\"\"\"def test01() :\n",
    "    print(x)\n",
    "    \n",
    "def test02() :\n",
    "    global x\n",
    "    x = 20 การคอมเม้น\"\"\""
   ]
  },
  {
   "cell_type": "code",
   "execution_count": 187,
   "id": "53569641",
   "metadata": {},
   "outputs": [
    {
     "name": "stdout",
     "output_type": "stream",
     "text": [
      "10\n"
     ]
    }
   ],
   "source": [
    "test01()"
   ]
  },
  {
   "cell_type": "code",
   "execution_count": 193,
   "id": "e8fe08b0",
   "metadata": {},
   "outputs": [],
   "source": [
    "name = \"intro to python\""
   ]
  },
  {
   "cell_type": "code",
   "execution_count": 194,
   "id": "fc851a45",
   "metadata": {},
   "outputs": [
    {
     "data": {
      "text/plain": [
       "15"
      ]
     },
     "execution_count": 194,
     "metadata": {},
     "output_type": "execute_result"
    }
   ],
   "source": [
    "len(name)"
   ]
  },
  {
   "cell_type": "code",
   "execution_count": 191,
   "id": "1b9fa404",
   "metadata": {},
   "outputs": [
    {
     "data": {
      "text/plain": [
       "'n'"
      ]
     },
     "execution_count": 191,
     "metadata": {},
     "output_type": "execute_result"
    }
   ],
   "source": [
    "name[1]"
   ]
  },
  {
   "cell_type": "code",
   "execution_count": 195,
   "id": "a747c390",
   "metadata": {},
   "outputs": [],
   "source": [
    "x = '1\\n2'"
   ]
  },
  {
   "cell_type": "code",
   "execution_count": 196,
   "id": "e1cb87bf",
   "metadata": {},
   "outputs": [
    {
     "name": "stdout",
     "output_type": "stream",
     "text": [
      "1\n",
      "2\n"
     ]
    }
   ],
   "source": [
    "print(x)"
   ]
  },
  {
   "cell_type": "code",
   "execution_count": 197,
   "id": "78cb4182",
   "metadata": {},
   "outputs": [
    {
     "data": {
      "text/plain": [
       "3"
      ]
     },
     "execution_count": 197,
     "metadata": {},
     "output_type": "execute_result"
    }
   ],
   "source": [
    "len(x)"
   ]
  },
  {
   "cell_type": "code",
   "execution_count": 198,
   "id": "3086dfd0",
   "metadata": {},
   "outputs": [
    {
     "data": {
      "text/plain": [
       "'intro to python'"
      ]
     },
     "execution_count": 198,
     "metadata": {},
     "output_type": "execute_result"
    }
   ],
   "source": [
    "name"
   ]
  },
  {
   "cell_type": "code",
   "execution_count": 199,
   "id": "69e31265",
   "metadata": {},
   "outputs": [
    {
     "data": {
      "text/plain": [
       "'intro to python Hello'"
      ]
     },
     "execution_count": 199,
     "metadata": {},
     "output_type": "execute_result"
    }
   ],
   "source": [
    "name+' Hello'"
   ]
  },
  {
   "cell_type": "code",
   "execution_count": 200,
   "id": "6c810877",
   "metadata": {},
   "outputs": [
    {
     "data": {
      "text/plain": [
       "'intro to pythonintro to pythonintro to python'"
      ]
     },
     "execution_count": 200,
     "metadata": {},
     "output_type": "execute_result"
    }
   ],
   "source": [
    "name*3"
   ]
  },
  {
   "cell_type": "code",
   "execution_count": 201,
   "id": "de86f938",
   "metadata": {},
   "outputs": [
    {
     "data": {
      "text/plain": [
       "'intro to python'"
      ]
     },
     "execution_count": 201,
     "metadata": {},
     "output_type": "execute_result"
    }
   ],
   "source": [
    "name"
   ]
  },
  {
   "cell_type": "code",
   "execution_count": 202,
   "id": "73611729",
   "metadata": {},
   "outputs": [
    {
     "data": {
      "text/plain": [
       "'n'"
      ]
     },
     "execution_count": 202,
     "metadata": {},
     "output_type": "execute_result"
    }
   ],
   "source": [
    "name[-1]"
   ]
  },
  {
   "cell_type": "code",
   "execution_count": 203,
   "id": "78f1879c",
   "metadata": {},
   "outputs": [
    {
     "data": {
      "text/plain": [
       "'o'"
      ]
     },
     "execution_count": 203,
     "metadata": {},
     "output_type": "execute_result"
    }
   ],
   "source": [
    "name[-2]"
   ]
  },
  {
   "cell_type": "code",
   "execution_count": 204,
   "id": "4e946722",
   "metadata": {},
   "outputs": [
    {
     "data": {
      "text/plain": [
       "'python'"
      ]
     },
     "execution_count": 204,
     "metadata": {},
     "output_type": "execute_result"
    }
   ],
   "source": [
    "name[9:15]"
   ]
  },
  {
   "cell_type": "code",
   "execution_count": 206,
   "id": "2666b19e",
   "metadata": {},
   "outputs": [
    {
     "data": {
      "text/plain": [
       "'python'"
      ]
     },
     "execution_count": 206,
     "metadata": {},
     "output_type": "execute_result"
    }
   ],
   "source": [
    "name[-6:]"
   ]
  },
  {
   "cell_type": "code",
   "execution_count": 210,
   "id": "35dfcd89",
   "metadata": {},
   "outputs": [
    {
     "data": {
      "text/plain": [
       "'intro to p'"
      ]
     },
     "execution_count": 210,
     "metadata": {},
     "output_type": "execute_result"
    }
   ],
   "source": [
    "name[:10]"
   ]
  },
  {
   "cell_type": "code",
   "execution_count": 211,
   "id": "40d010ff",
   "metadata": {},
   "outputs": [
    {
     "data": {
      "text/plain": [
       "'intro to python'"
      ]
     },
     "execution_count": 211,
     "metadata": {},
     "output_type": "execute_result"
    }
   ],
   "source": [
    "name[:]"
   ]
  },
  {
   "cell_type": "code",
   "execution_count": 213,
   "id": "4bea81bc",
   "metadata": {},
   "outputs": [
    {
     "data": {
      "text/plain": [
       "'intro to python'"
      ]
     },
     "execution_count": 213,
     "metadata": {},
     "output_type": "execute_result"
    }
   ],
   "source": [
    "name"
   ]
  },
  {
   "cell_type": "code",
   "execution_count": 212,
   "id": "01f4b5af",
   "metadata": {},
   "outputs": [
    {
     "data": {
      "text/plain": [
       "'itot y'"
      ]
     },
     "execution_count": 212,
     "metadata": {},
     "output_type": "execute_result"
    }
   ],
   "source": [
    "name[0:11:2]"
   ]
  },
  {
   "cell_type": "code",
   "execution_count": 221,
   "id": "0a8961f8",
   "metadata": {},
   "outputs": [
    {
     "data": {
      "text/plain": [
       "'nohtyp ot ortni'"
      ]
     },
     "execution_count": 221,
     "metadata": {},
     "output_type": "execute_result"
    }
   ],
   "source": [
    "name[len(name): :-1] #ปริ้นกลับหลัง"
   ]
  },
  {
   "cell_type": "code",
   "execution_count": 18,
   "id": "8b5361dd",
   "metadata": {},
   "outputs": [],
   "source": [
    "lists = ['Hi','ther','sam!']"
   ]
  },
  {
   "cell_type": "code",
   "execution_count": 19,
   "id": "2643f685",
   "metadata": {},
   "outputs": [
    {
     "data": {
      "text/plain": [
       "['Hi', 'ther', 'sam!']"
      ]
     },
     "execution_count": 19,
     "metadata": {},
     "output_type": "execute_result"
    }
   ],
   "source": [
    "lists"
   ]
  },
  {
   "cell_type": "code",
   "execution_count": null,
   "id": "53e93429",
   "metadata": {},
   "outputs": [],
   "source": []
  }
 ],
 "metadata": {
  "kernelspec": {
   "display_name": "Python 3 (ipykernel)",
   "language": "python",
   "name": "python3"
  },
  "language_info": {
   "codemirror_mode": {
    "name": "ipython",
    "version": 3
   },
   "file_extension": ".py",
   "mimetype": "text/x-python",
   "name": "python",
   "nbconvert_exporter": "python",
   "pygments_lexer": "ipython3",
   "version": "3.11.5"
  }
 },
 "nbformat": 4,
 "nbformat_minor": 5
}
